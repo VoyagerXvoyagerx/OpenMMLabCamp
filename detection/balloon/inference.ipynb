{
 "cells": [
  {
   "cell_type": "code",
   "execution_count": 1,
   "metadata": {},
   "outputs": [
    {
     "name": "stdout",
     "output_type": "stream",
     "text": [
      "/home/ubuntu/mmdetection\n"
     ]
    }
   ],
   "source": [
    "import numpy as np\n",
    "from mmdet.apis import init_detector, inference_detector\n",
    "from mmdet.utils import register_all_modules\n",
    "from mmdet.registry import VISUALIZERS\n",
    "import mmcv\n",
    "!pwd"
   ]
  },
  {
   "cell_type": "code",
   "execution_count": 2,
   "metadata": {},
   "outputs": [
    {
     "name": "stdout",
     "output_type": "stream",
     "text": [
      "02/10 10:25:49 - mmengine - WARNING - The \"model\" registry in mmdet did not set import location. Fallback to call `mmdet.utils.register_all_modules` instead.\n",
      "02/10 10:25:49 - mmengine - WARNING - The \"task util\" registry in mmdet did not set import location. Fallback to call `mmdet.utils.register_all_modules` instead.\n",
      "Loads checkpoint by local backend from path: ./work_dirs/mask-rcnn_r50-caffe_fpn_ms-poly-1x_balloon/epoch_12.pth\n",
      "02/10 10:25:49 - mmengine - WARNING - The \"dataset\" registry in mmdet did not set import location. Fallback to call `mmdet.utils.register_all_modules` instead.\n",
      "02/10 10:25:49 - mmengine - WARNING - The \"transform\" registry in mmdet did not set import location. Fallback to call `mmdet.utils.register_all_modules` instead.\n"
     ]
    }
   ],
   "source": [
    "register_all_modules()\n",
    "checkpoint_file = './work_dirs/mask-rcnn_r50-caffe_fpn_ms-poly-1x_balloon/epoch_12.pth'\n",
    "config_file = './work_dirs/mask-rcnn_r50-caffe_fpn_ms-poly-1x_balloon/mask-rcnn_r50-caffe_fpn_ms-poly-1x_balloon.py'\n",
    "model = init_detector(config_file, checkpoint_file, device='cuda:0')"
   ]
  },
  {
   "attachments": {},
   "cell_type": "markdown",
   "metadata": {},
   "source": [
    "#### 推理并生成gif"
   ]
  },
  {
   "cell_type": "code",
   "execution_count": 3,
   "metadata": {},
   "outputs": [
    {
     "name": "stdout",
     "output_type": "stream",
     "text": [
      "[                                 ] 1/150, 0.6 task/s, elapsed: 2s, ETA:   247s"
     ]
    },
    {
     "name": "stderr",
     "output_type": "stream",
     "text": [
      "/tmp/ipykernel_11724/1579105893.py:13: UserWarning: To copy construct from a tensor, it is recommended to use sourceTensor.clone().detach() or sourceTensor.clone().detach().requires_grad_(True), rather than torch.tensor(sourceTensor).\n",
      "  masks_int = torch.tensor(masks, dtype=int).cpu().numpy()  # torch.Size([bboxes, 1080, 1920])\n"
     ]
    },
    {
     "name": "stdout",
     "output_type": "stream",
     "text": [
      "[>>>>>>>>>>>>>>>>>>>>>>>>>     ] 125/150, 3.7 task/s, elapsed: 34s, ETA:     7s\n"
     ]
    }
   ],
   "source": [
    "import cv2\n",
    "import imageio\n",
    "import torch\n",
    "from mmengine.utils import track_iter_progress\n",
    "\n",
    "\n",
    "def inference_video(video_path):\n",
    "\tvideo_reader = mmcv.VideoReader(video_path)\n",
    "\tall_frames = []\n",
    "\tfor img in track_iter_progress(video_reader):\n",
    "\t\tresult = inference_detector(model, img)\n",
    "\t\tmasks = result.pred_instances.masks\n",
    "\t\tmasks_int = torch.tensor(masks, dtype=int).cpu().numpy()  # torch.Size([bboxes, 1080, 1920])\n",
    "\t\tmask = masks_int.sum(axis=0)\n",
    "\t\tmask = mask > 0\n",
    "\t\tbackground = np.logical_not(mask)   # [1, 1080, 1920]\n",
    "\t\timg[0][0] # [71, 87, 94] (1080, 1920, 3)\n",
    "\t\t# 利用广播机制\n",
    "\t\tmask = mask.reshape(1080, 1920, 1)\n",
    "\t\tmask_img = mask * img\n",
    "\t\tmask_img = mask_img.reshape(1080, 1920, 3)\n",
    "\t\tmask_img = mmcv.rgb2bgr(mask_img)\n",
    "\t\tgray_img = mmcv.bgr2gray(img) * background\n",
    "\t\tmask_img += gray_img.reshape(1080, 1920, 1)\n",
    "\t\tmask_img = cv2.resize(mask_img, [240, 135])\n",
    "\t\tall_frames.append(mask_img)\n",
    "\treturn all_frames\n",
    "\n",
    "def frame_to_gif(frame_list):\n",
    "\tgif = imageio.mimsave('./test_result.gif', frame_list, 'GIF', duration=0.0005)  \n",
    "\n",
    "frame_list = inference_video('./data/balloon/test_video.mp4')\n",
    "frame_to_gif(frame_list)"
   ]
  }
 ],
 "metadata": {
  "kernelspec": {
   "display_name": "mmlab",
   "language": "python",
   "name": "python3"
  },
  "language_info": {
   "codemirror_mode": {
    "name": "ipython",
    "version": 3
   },
   "file_extension": ".py",
   "mimetype": "text/x-python",
   "name": "python",
   "nbconvert_exporter": "python",
   "pygments_lexer": "ipython3",
   "version": "3.8.16"
  },
  "orig_nbformat": 4,
  "vscode": {
   "interpreter": {
    "hash": "3f0cac9b4c15a115bcc92a822a73b5ddff4c7104025f7602d5a374ddd4c7361d"
   }
  }
 },
 "nbformat": 4,
 "nbformat_minor": 2
}
